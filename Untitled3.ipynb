{
  "nbformat": 4,
  "nbformat_minor": 0,
  "metadata": {
    "colab": {
      "provenance": []
    },
    "kernelspec": {
      "name": "python3",
      "display_name": "Python 3"
    },
    "language_info": {
      "name": "python"
    }
  },
  "cells": [
    {
      "cell_type": "code",
      "execution_count": 29,
      "metadata": {
        "id": "IIYQSIj6sKGD"
      },
      "outputs": [],
      "source": [
        "# Importar las librerias requeridas\n",
        "import tensorflow as tf\n",
        "from tensorflow.keras.preprocessing.image import ImageDataGenerator\n",
        "from tensorflow.keras.applications import MobileNetV2\n",
        "from tensorflow.keras.models import Sequential, Model, load_model\n",
        "from tensorflow.keras.layers import Dense, Dropout, GlobalAveragePooling2D, Input\n",
        "from tensorflow.keras.callbacks import EarlyStopping, ModelCheckpoint, ReduceLROnPlateau\n",
        "import numpy as np\n",
        "import os\n",
        "\n",
        "# Configurar memoria de GPU si está disponible\n",
        "gpus = tf.config.experimental.list_physical_devices('GPU')\n",
        "if gpus:\n",
        "    try:\n",
        "        for gpu in gpus:\n",
        "            tf.config.experimental.set_memory_growth(gpu, True)\n",
        "    except RuntimeError as e:\n",
        "        print(e)"
      ]
    },
    {
      "cell_type": "code",
      "source": [
        "# Definir la ruta de las imagenes\n",
        "Entrenamiento = \"/content/drive/MyDrive/MyEI/Imagenes/Entrenar\"\n",
        "Validacion = \"/content/drive/MyDrive/MyEI/Imagenes/Validar\"\n",
        "\n",
        "# Definir los Hiperparametros\n",
        "epocas = 50\n",
        "altura, anchura = 224, 224  # Tamaño estándar para MobileNetV2\n",
        "batch_size = 16  # Reducido para mejor generalización\n",
        "clases = 6  # orgánico, vidrio, metal, papel, plástico, basura\n",
        "\n",
        "# Crear directorio para guardar modelos si no existe\n",
        "modelo_dir = \"/content/drive/MyDrive/MyEI/Imagenes/Modelo\"\n",
        "if not os.path.exists(modelo_dir):\n",
        "    os.makedirs(modelo_dir)"
      ],
      "metadata": {
        "id": "dCy-v-l5sYFm"
      },
      "execution_count": 30,
      "outputs": []
    },
    {
      "cell_type": "code",
      "source": [
        "# Preprocesamiento para MobileNetV2\n",
        "from tensorflow.keras.applications.mobilenet_v2 import preprocess_input\n",
        "\n",
        "# Generador de datos con aumento para entrenamiento\n",
        "entrenar = ImageDataGenerator(\n",
        "    preprocessing_function=preprocess_input,\n",
        "    rotation_range=40,\n",
        "    width_shift_range=0.2,\n",
        "    height_shift_range=0.2,\n",
        "    shear_range=0.2,\n",
        "    zoom_range=0.2,\n",
        "    horizontal_flip=True,\n",
        "    vertical_flip=True,\n",
        "    fill_mode='nearest',\n",
        "    validation_split=0.2  # Usar 20% de los datos de entrenamiento para validación\n",
        ")\n",
        "\n",
        "# Generador para validación (solo preprocesamiento)\n",
        "validar = ImageDataGenerator(\n",
        "    preprocessing_function=preprocess_input\n",
        ")\n",
        "\n",
        "# Cargar imágenes de entrenamiento\n",
        "imagenes_entrenamiento = entrenar.flow_from_directory(\n",
        "    Entrenamiento,\n",
        "    target_size=(altura, anchura),\n",
        "    batch_size=batch_size,\n",
        "    class_mode=\"categorical\",\n",
        "    shuffle=True,\n",
        "    subset='training'\n",
        ")\n",
        "\n",
        "# Cargar imágenes de validación interna\n",
        "imagenes_validacion_interna = entrenar.flow_from_directory(\n",
        "    Entrenamiento,\n",
        "    target_size=(altura, anchura),\n",
        "    batch_size=batch_size,\n",
        "    class_mode=\"categorical\",\n",
        "    shuffle=True,\n",
        "    subset='validation'\n",
        ")\n",
        "\n",
        "# Cargar imágenes de validación externa\n",
        "imagenes_validacion = validar.flow_from_directory(\n",
        "    Validacion,\n",
        "    target_size=(altura, anchura),\n",
        "    batch_size=batch_size,\n",
        "    class_mode=\"categorical\",\n",
        "    shuffle=False\n",
        ")\n",
        "\n",
        "# Guardar el mapeo de clases para uso posterior\n",
        "clases_indices = imagenes_entrenamiento.class_indices\n",
        "indices_clases = {v: k for k, v in clases_indices.items()}\n",
        "\n",
        "print(\"Clases encontradas:\", clases_indices)\n",
        "print(f\"Total imágenes de entrenamiento: {imagenes_entrenamiento.samples}\")\n",
        "print(f\"Total imágenes de validación interna: {imagenes_validacion_interna.samples}\")\n",
        "print(f\"Total imágenes de validación externa: {imagenes_validacion.samples}\")\n",
        "\n",
        "# Calcular pesos de clase para compensar desbalance\n",
        "from sklearn.utils.class_weight import compute_class_weight\n",
        "import numpy as np\n",
        "\n",
        "# Obtener etiquetas reales\n",
        "etiquetas = imagenes_entrenamiento.classes\n",
        "clases_unicas = np.unique(etiquetas)\n",
        "\n",
        "# Calcular pesos de clase\n",
        "pesos_clase = compute_class_weight(\n",
        "    class_weight='balanced',\n",
        "    classes=clases_unicas,\n",
        "    y=etiquetas\n",
        ")\n",
        "\n",
        "# Convertir a diccionario\n",
        "pesos_clase_dict = {i: peso for i, peso in zip(clases_unicas, pesos_clase)}\n",
        "print(\"Pesos de clase para compensar desbalance:\", pesos_clase_dict)"
      ],
      "metadata": {
        "colab": {
          "base_uri": "https://localhost:8080/"
        },
        "id": "toFiAhaSsevh",
        "outputId": "72c4fa79-f06c-4715-d6f4-77dfe6299377"
      },
      "execution_count": 31,
      "outputs": [
        {
          "output_type": "stream",
          "name": "stdout",
          "text": [
            "Found 303 images belonging to 6 classes.\n",
            "Found 71 images belonging to 6 classes.\n",
            "Found 110 images belonging to 6 classes.\n",
            "Clases encontradas: {'aluminio': 0, 'basura': 1, 'organicos': 2, 'papel': 3, 'plástico': 4, 'vidrio': 5}\n",
            "Total imágenes de entrenamiento: 303\n",
            "Total imágenes de validación interna: 71\n",
            "Total imágenes de validación externa: 110\n",
            "Pesos de clase para compensar desbalance: {np.int32(0): np.float64(0.9711538461538461), np.int32(1): np.float64(0.9901960784313726), np.int32(2): np.float64(1.1477272727272727), np.int32(3): np.float64(0.9711538461538461), np.int32(4): np.float64(0.9711538461538461), np.int32(5): np.float64(0.9711538461538461)}\n"
          ]
        }
      ]
    },
    {
      "cell_type": "code",
      "source": [
        "# Crear modelo con Transfer Learning usando MobileNetV2\n",
        "def crear_modelo_transfer():\n",
        "    # Cargar modelo base pre-entrenado (sin incluir la capa de clasificación)\n",
        "    base_model = MobileNetV2(\n",
        "        weights='imagenet',\n",
        "        include_top=False,\n",
        "        input_shape=(altura, anchura, 3)\n",
        "    )\n",
        "\n",
        "    # Congelar las capas del modelo base\n",
        "    for layer in base_model.layers:\n",
        "        layer.trainable = False\n",
        "\n",
        "    # Crear nuevo modelo\n",
        "    modelo = Sequential([\n",
        "        base_model,\n",
        "        GlobalAveragePooling2D(),\n",
        "        Dense(256, activation='relu'),\n",
        "        Dropout(0.5),\n",
        "        Dense(clases, activation='softmax')\n",
        "    ])\n",
        "\n",
        "    # Compilar modelo\n",
        "    modelo.compile(\n",
        "        optimizer=tf.keras.optimizers.Adam(learning_rate=0.001),\n",
        "        loss='categorical_crossentropy',\n",
        "        metrics=['accuracy']\n",
        "    )\n",
        "\n",
        "    return modelo\n",
        "\n",
        "# Crear el modelo\n",
        "ModeloCNN = crear_modelo_transfer()\n",
        "\n",
        "# Mostrar resumen del modelo (sin detalles de cada capa)\n",
        "ModeloCNN.summary(line_length=80)"
      ],
      "metadata": {
        "colab": {
          "base_uri": "https://localhost:8080/",
          "height": 354
        },
        "id": "7JRgGvK4uVde",
        "outputId": "6a1d1710-7b53-4e14-91a5-7e66c56cfe1d"
      },
      "execution_count": 32,
      "outputs": [
        {
          "output_type": "stream",
          "name": "stdout",
          "text": [
            "Downloading data from https://storage.googleapis.com/tensorflow/keras-applications/mobilenet_v2/mobilenet_v2_weights_tf_dim_ordering_tf_kernels_1.0_224_no_top.h5\n",
            "\u001b[1m9406464/9406464\u001b[0m \u001b[32m━━━━━━━━━━━━━━━━━━━━\u001b[0m\u001b[37m\u001b[0m \u001b[1m0s\u001b[0m 0us/step\n"
          ]
        },
        {
          "output_type": "display_data",
          "data": {
            "text/plain": [
              "\u001b[1mModel: \"sequential_1\"\u001b[0m\n"
            ],
            "text/html": [
              "<pre style=\"white-space:pre;overflow-x:auto;line-height:normal;font-family:Menlo,'DejaVu Sans Mono',consolas,'Courier New',monospace\"><span style=\"font-weight: bold\">Model: \"sequential_1\"</span>\n",
              "</pre>\n"
            ]
          },
          "metadata": {}
        },
        {
          "output_type": "display_data",
          "data": {
            "text/plain": [
              "┏━━━━━━━━━━━━━━━━━━━━━━━━━━━━━━━━━━━┳━━━━━━━━━━━━━━━━━━━━━━━━━━┳━━━━━━━━━━━━━━━┓\n",
              "┃\u001b[1m \u001b[0m\u001b[1mLayer (type)                     \u001b[0m\u001b[1m \u001b[0m┃\u001b[1m \u001b[0m\u001b[1mOutput Shape            \u001b[0m\u001b[1m \u001b[0m┃\u001b[1m \u001b[0m\u001b[1m      Param #\u001b[0m\u001b[1m \u001b[0m┃\n",
              "┡━━━━━━━━━━━━━━━━━━━━━━━━━━━━━━━━━━━╇━━━━━━━━━━━━━━━━━━━━━━━━━━╇━━━━━━━━━━━━━━━┩\n",
              "│ mobilenetv2_1.00_224 (\u001b[38;5;33mFunctional\u001b[0m) │ (\u001b[38;5;45mNone\u001b[0m, \u001b[38;5;34m7\u001b[0m, \u001b[38;5;34m7\u001b[0m, \u001b[38;5;34m1280\u001b[0m)       │     \u001b[38;5;34m2,257,984\u001b[0m │\n",
              "├───────────────────────────────────┼──────────────────────────┼───────────────┤\n",
              "│ global_average_pooling2d          │ (\u001b[38;5;45mNone\u001b[0m, \u001b[38;5;34m1280\u001b[0m)             │             \u001b[38;5;34m0\u001b[0m │\n",
              "│ (\u001b[38;5;33mGlobalAveragePooling2D\u001b[0m)          │                          │               │\n",
              "├───────────────────────────────────┼──────────────────────────┼───────────────┤\n",
              "│ dense_3 (\u001b[38;5;33mDense\u001b[0m)                   │ (\u001b[38;5;45mNone\u001b[0m, \u001b[38;5;34m256\u001b[0m)              │       \u001b[38;5;34m327,936\u001b[0m │\n",
              "├───────────────────────────────────┼──────────────────────────┼───────────────┤\n",
              "│ dropout_2 (\u001b[38;5;33mDropout\u001b[0m)               │ (\u001b[38;5;45mNone\u001b[0m, \u001b[38;5;34m256\u001b[0m)              │             \u001b[38;5;34m0\u001b[0m │\n",
              "├───────────────────────────────────┼──────────────────────────┼───────────────┤\n",
              "│ dense_4 (\u001b[38;5;33mDense\u001b[0m)                   │ (\u001b[38;5;45mNone\u001b[0m, \u001b[38;5;34m6\u001b[0m)                │         \u001b[38;5;34m1,542\u001b[0m │\n",
              "└───────────────────────────────────┴──────────────────────────┴───────────────┘\n"
            ],
            "text/html": [
              "<pre style=\"white-space:pre;overflow-x:auto;line-height:normal;font-family:Menlo,'DejaVu Sans Mono',consolas,'Courier New',monospace\">┏━━━━━━━━━━━━━━━━━━━━━━━━━━━━━━━━━━━┳━━━━━━━━━━━━━━━━━━━━━━━━━━┳━━━━━━━━━━━━━━━┓\n",
              "┃<span style=\"font-weight: bold\"> Layer (type)                      </span>┃<span style=\"font-weight: bold\"> Output Shape             </span>┃<span style=\"font-weight: bold\">       Param # </span>┃\n",
              "┡━━━━━━━━━━━━━━━━━━━━━━━━━━━━━━━━━━━╇━━━━━━━━━━━━━━━━━━━━━━━━━━╇━━━━━━━━━━━━━━━┩\n",
              "│ mobilenetv2_1.00_224 (<span style=\"color: #0087ff; text-decoration-color: #0087ff\">Functional</span>) │ (<span style=\"color: #00d7ff; text-decoration-color: #00d7ff\">None</span>, <span style=\"color: #00af00; text-decoration-color: #00af00\">7</span>, <span style=\"color: #00af00; text-decoration-color: #00af00\">7</span>, <span style=\"color: #00af00; text-decoration-color: #00af00\">1280</span>)       │     <span style=\"color: #00af00; text-decoration-color: #00af00\">2,257,984</span> │\n",
              "├───────────────────────────────────┼──────────────────────────┼───────────────┤\n",
              "│ global_average_pooling2d          │ (<span style=\"color: #00d7ff; text-decoration-color: #00d7ff\">None</span>, <span style=\"color: #00af00; text-decoration-color: #00af00\">1280</span>)             │             <span style=\"color: #00af00; text-decoration-color: #00af00\">0</span> │\n",
              "│ (<span style=\"color: #0087ff; text-decoration-color: #0087ff\">GlobalAveragePooling2D</span>)          │                          │               │\n",
              "├───────────────────────────────────┼──────────────────────────┼───────────────┤\n",
              "│ dense_3 (<span style=\"color: #0087ff; text-decoration-color: #0087ff\">Dense</span>)                   │ (<span style=\"color: #00d7ff; text-decoration-color: #00d7ff\">None</span>, <span style=\"color: #00af00; text-decoration-color: #00af00\">256</span>)              │       <span style=\"color: #00af00; text-decoration-color: #00af00\">327,936</span> │\n",
              "├───────────────────────────────────┼──────────────────────────┼───────────────┤\n",
              "│ dropout_2 (<span style=\"color: #0087ff; text-decoration-color: #0087ff\">Dropout</span>)               │ (<span style=\"color: #00d7ff; text-decoration-color: #00d7ff\">None</span>, <span style=\"color: #00af00; text-decoration-color: #00af00\">256</span>)              │             <span style=\"color: #00af00; text-decoration-color: #00af00\">0</span> │\n",
              "├───────────────────────────────────┼──────────────────────────┼───────────────┤\n",
              "│ dense_4 (<span style=\"color: #0087ff; text-decoration-color: #0087ff\">Dense</span>)                   │ (<span style=\"color: #00d7ff; text-decoration-color: #00d7ff\">None</span>, <span style=\"color: #00af00; text-decoration-color: #00af00\">6</span>)                │         <span style=\"color: #00af00; text-decoration-color: #00af00\">1,542</span> │\n",
              "└───────────────────────────────────┴──────────────────────────┴───────────────┘\n",
              "</pre>\n"
            ]
          },
          "metadata": {}
        },
        {
          "output_type": "display_data",
          "data": {
            "text/plain": [
              "\u001b[1m Total params: \u001b[0m\u001b[38;5;34m2,587,462\u001b[0m (9.87 MB)\n"
            ],
            "text/html": [
              "<pre style=\"white-space:pre;overflow-x:auto;line-height:normal;font-family:Menlo,'DejaVu Sans Mono',consolas,'Courier New',monospace\"><span style=\"font-weight: bold\"> Total params: </span><span style=\"color: #00af00; text-decoration-color: #00af00\">2,587,462</span> (9.87 MB)\n",
              "</pre>\n"
            ]
          },
          "metadata": {}
        },
        {
          "output_type": "display_data",
          "data": {
            "text/plain": [
              "\u001b[1m Trainable params: \u001b[0m\u001b[38;5;34m329,478\u001b[0m (1.26 MB)\n"
            ],
            "text/html": [
              "<pre style=\"white-space:pre;overflow-x:auto;line-height:normal;font-family:Menlo,'DejaVu Sans Mono',consolas,'Courier New',monospace\"><span style=\"font-weight: bold\"> Trainable params: </span><span style=\"color: #00af00; text-decoration-color: #00af00\">329,478</span> (1.26 MB)\n",
              "</pre>\n"
            ]
          },
          "metadata": {}
        },
        {
          "output_type": "display_data",
          "data": {
            "text/plain": [
              "\u001b[1m Non-trainable params: \u001b[0m\u001b[38;5;34m2,257,984\u001b[0m (8.61 MB)\n"
            ],
            "text/html": [
              "<pre style=\"white-space:pre;overflow-x:auto;line-height:normal;font-family:Menlo,'DejaVu Sans Mono',consolas,'Courier New',monospace\"><span style=\"font-weight: bold\"> Non-trainable params: </span><span style=\"color: #00af00; text-decoration-color: #00af00\">2,257,984</span> (8.61 MB)\n",
              "</pre>\n"
            ]
          },
          "metadata": {}
        }
      ]
    },
    {
      "cell_type": "code",
      "source": [
        "# Callbacks para mejorar el entrenamiento\n",
        "early_stopping = EarlyStopping(\n",
        "    monitor='val_loss',\n",
        "    patience=10,\n",
        "    restore_best_weights=True,\n",
        "    verbose=1\n",
        ")\n",
        "\n",
        "checkpoint = ModelCheckpoint(\n",
        "    os.path.join(modelo_dir, \"mejor_modelo_transfer.h5\"),\n",
        "    monitor='val_accuracy',\n",
        "    save_best_only=True,\n",
        "    verbose=1\n",
        ")\n",
        "\n",
        "reduce_lr = ReduceLROnPlateau(\n",
        "    monitor='val_loss',\n",
        "    factor=0.2,\n",
        "    patience=5,\n",
        "    min_lr=0.00001,\n",
        "    verbose=1\n",
        ")\n",
        "\n",
        "callbacks = [early_stopping, checkpoint, reduce_lr]"
      ],
      "metadata": {
        "id": "uMXBFMWau0o2"
      },
      "execution_count": 34,
      "outputs": []
    },
    {
      "cell_type": "code",
      "source": [
        "# Calcular steps dinámicamente\n",
        "pasos_entrenamiento = imagenes_entrenamiento.samples // batch_size\n",
        "pasos_validacion = imagenes_validacion_interna.samples // batch_size\n",
        "\n",
        "# Entrenar modelo CNN con transfer learning\n",
        "historial = ModeloCNN.fit(\n",
        "    imagenes_entrenamiento,\n",
        "    steps_per_epoch=pasos_entrenamiento,\n",
        "    epochs=epocas,\n",
        "    validation_data=imagenes_validacion_interna,\n",
        "    validation_steps=pasos_validacion,\n",
        "    callbacks=callbacks,\n",
        "    class_weight=pesos_clase_dict,\n",
        "    verbose=1\n",
        ")\n",
        "\n",
        "# Descongelar algunas capas superiores del modelo base para fine-tuning\n",
        "base_model = ModeloCNN.layers[0]\n",
        "# Descongelar las últimas 20 capas\n",
        "for layer in base_model.layers[-20:]:\n",
        "    layer.trainable = True\n",
        "\n",
        "# Recompilar el modelo con una tasa de aprendizaje más baja\n",
        "ModeloCNN.compile(\n",
        "    optimizer=tf.keras.optimizers.Adam(learning_rate=0.0001),\n",
        "    loss='categorical_crossentropy',\n",
        "    metrics=['accuracy']\n",
        ")\n",
        "\n",
        "# Fine-tuning con menos épocas\n",
        "historial_fine_tuning = ModeloCNN.fit(\n",
        "    imagenes_entrenamiento,\n",
        "    steps_per_epoch=pasos_entrenamiento,\n",
        "    epochs=20,  # Menos épocas para fine-tuning\n",
        "    validation_data=imagenes_validacion_interna,\n",
        "    validation_steps=pasos_validacion,\n",
        "    callbacks=callbacks,\n",
        "    class_weight=pesos_clase_dict,\n",
        "    verbose=1\n",
        ")\n",
        "\n",
        "# Guardar el modelo final\n",
        "modelo_final_path = os.path.join(modelo_dir, \"modelo_final_transfer.h5\")\n",
        "ModeloCNN.save(modelo_final_path)\n",
        "print(f\"Modelo final guardado en: {modelo_final_path}\")\n",
        "\n",
        "# Guardar el mapeo de clases\n",
        "import json\n",
        "with open(os.path.join(modelo_dir, \"clases_indices.json\"), \"w\") as f:\n",
        "    json.dump(clases_indices, f)\n",
        "print(\"Mapeo de clases guardado\")"
      ],
      "metadata": {
        "colab": {
          "base_uri": "https://localhost:8080/"
        },
        "id": "DedJLVzBu5qQ",
        "outputId": "90e75ed9-f450-44e9-a748-285c9020472c"
      },
      "execution_count": 35,
      "outputs": [
        {
          "output_type": "stream",
          "name": "stderr",
          "text": [
            "/usr/local/lib/python3.11/dist-packages/keras/src/trainers/data_adapters/py_dataset_adapter.py:121: UserWarning: Your `PyDataset` class should call `super().__init__(**kwargs)` in its constructor. `**kwargs` can include `workers`, `use_multiprocessing`, `max_queue_size`. Do not pass these arguments to `fit()`, as they will be ignored.\n",
            "  self._warn_if_super_not_called()\n"
          ]
        },
        {
          "output_type": "stream",
          "name": "stdout",
          "text": [
            "Epoch 1/50\n",
            "\u001b[1m18/18\u001b[0m \u001b[32m━━━━━━━━━━━━━━━━━━━━\u001b[0m\u001b[37m\u001b[0m \u001b[1m0s\u001b[0m 1s/step - accuracy: 0.3358 - loss: 1.8128\n",
            "Epoch 1: val_accuracy improved from -inf to 0.65625, saving model to /content/drive/MyDrive/MyEI/Imagenes/Modelo/mejor_modelo_transfer.h5\n"
          ]
        },
        {
          "output_type": "stream",
          "name": "stderr",
          "text": [
            "WARNING:absl:You are saving your model as an HDF5 file via `model.save()` or `keras.saving.save_model(model)`. This file format is considered legacy. We recommend using instead the native Keras format, e.g. `model.save('my_model.keras')` or `keras.saving.save_model(model, 'my_model.keras')`. \n"
          ]
        },
        {
          "output_type": "stream",
          "name": "stdout",
          "text": [
            "\b\b\b\b\b\b\b\b\b\b\b\b\b\b\b\b\b\b\b\b\b\b\b\b\b\b\b\b\b\b\b\b\b\b\b\b\b\b\b\b\b\b\b\b\b\b\b\b\b\b\b\b\b\b\b\b\b\b\b\b\b\b\b\b\b\b\b\b\b\b\b\r\u001b[1m18/18\u001b[0m \u001b[32m━━━━━━━━━━━━━━━━━━━━\u001b[0m\u001b[37m\u001b[0m \u001b[1m42s\u001b[0m 2s/step - accuracy: 0.3427 - loss: 1.7976 - val_accuracy: 0.6562 - val_loss: 0.9176 - learning_rate: 0.0010\n",
            "Epoch 2/50\n",
            "\u001b[1m 1/18\u001b[0m \u001b[32m━\u001b[0m\u001b[37m━━━━━━━━━━━━━━━━━━━\u001b[0m \u001b[1m16s\u001b[0m 949ms/step - accuracy: 0.6875 - loss: 0.7673"
          ]
        },
        {
          "output_type": "stream",
          "name": "stderr",
          "text": [
            "/usr/local/lib/python3.11/dist-packages/keras/src/trainers/epoch_iterator.py:107: UserWarning: Your input ran out of data; interrupting training. Make sure that your dataset or generator can generate at least `steps_per_epoch * epochs` batches. You may need to use the `.repeat()` function when building your dataset.\n",
            "  self._interrupted_warning()\n"
          ]
        },
        {
          "output_type": "stream",
          "name": "stdout",
          "text": [
            "\n",
            "Epoch 2: val_accuracy improved from 0.65625 to 0.68750, saving model to /content/drive/MyDrive/MyEI/Imagenes/Modelo/mejor_modelo_transfer.h5\n"
          ]
        },
        {
          "output_type": "stream",
          "name": "stderr",
          "text": [
            "WARNING:absl:You are saving your model as an HDF5 file via `model.save()` or `keras.saving.save_model(model)`. This file format is considered legacy. We recommend using instead the native Keras format, e.g. `model.save('my_model.keras')` or `keras.saving.save_model(model, 'my_model.keras')`. \n"
          ]
        },
        {
          "output_type": "stream",
          "name": "stdout",
          "text": [
            "\b\b\b\b\b\b\b\b\b\b\b\b\b\b\b\b\b\b\b\b\b\b\b\b\b\b\b\b\b\b\b\b\b\b\b\b\b\b\b\b\b\b\b\b\b\b\b\b\b\b\b\b\b\b\b\b\b\b\b\b\b\b\b\b\b\b\b\b\b\b\b\b\b\b\b\r\u001b[1m18/18\u001b[0m \u001b[32m━━━━━━━━━━━━━━━━━━━━\u001b[0m\u001b[37m\u001b[0m \u001b[1m9s\u001b[0m 480ms/step - accuracy: 0.6875 - loss: 0.7673 - val_accuracy: 0.6875 - val_loss: 0.7698 - learning_rate: 0.0010\n",
            "Epoch 3/50\n",
            "\u001b[1m18/18\u001b[0m \u001b[32m━━━━━━━━━━━━━━━━━━━━\u001b[0m\u001b[37m\u001b[0m \u001b[1m0s\u001b[0m 836ms/step - accuracy: 0.7454 - loss: 0.6509\n",
            "Epoch 3: val_accuracy did not improve from 0.68750\n",
            "\u001b[1m18/18\u001b[0m \u001b[32m━━━━━━━━━━━━━━━━━━━━\u001b[0m\u001b[37m\u001b[0m \u001b[1m20s\u001b[0m 1s/step - accuracy: 0.7467 - loss: 0.6488 - val_accuracy: 0.6562 - val_loss: 0.7658 - learning_rate: 0.0010\n",
            "Epoch 4/50\n",
            "\u001b[1m 1/18\u001b[0m \u001b[32m━\u001b[0m\u001b[37m━━━━━━━━━━━━━━━━━━━\u001b[0m \u001b[1m8s\u001b[0m 511ms/step - accuracy: 0.8125 - loss: 0.6209\n",
            "Epoch 4: val_accuracy improved from 0.68750 to 0.70312, saving model to /content/drive/MyDrive/MyEI/Imagenes/Modelo/mejor_modelo_transfer.h5\n"
          ]
        },
        {
          "output_type": "stream",
          "name": "stderr",
          "text": [
            "WARNING:absl:You are saving your model as an HDF5 file via `model.save()` or `keras.saving.save_model(model)`. This file format is considered legacy. We recommend using instead the native Keras format, e.g. `model.save('my_model.keras')` or `keras.saving.save_model(model, 'my_model.keras')`. \n"
          ]
        },
        {
          "output_type": "stream",
          "name": "stdout",
          "text": [
            "\b\b\b\b\b\b\b\b\b\b\b\b\b\b\b\b\b\b\b\b\b\b\b\b\b\b\b\b\b\b\b\b\b\b\b\b\b\b\b\b\b\b\b\b\b\b\b\b\b\b\b\b\b\b\b\b\b\b\b\b\b\b\b\b\b\b\b\b\b\b\b\b\b\b\r\u001b[1m18/18\u001b[0m \u001b[32m━━━━━━━━━━━━━━━━━━━━\u001b[0m\u001b[37m\u001b[0m \u001b[1m6s\u001b[0m 332ms/step - accuracy: 0.8125 - loss: 0.6209 - val_accuracy: 0.7031 - val_loss: 0.6973 - learning_rate: 0.0010\n",
            "Epoch 5/50\n",
            "\u001b[1m18/18\u001b[0m \u001b[32m━━━━━━━━━━━━━━━━━━━━\u001b[0m\u001b[37m\u001b[0m \u001b[1m0s\u001b[0m 868ms/step - accuracy: 0.8555 - loss: 0.4765\n",
            "Epoch 5: val_accuracy improved from 0.70312 to 0.79688, saving model to /content/drive/MyDrive/MyEI/Imagenes/Modelo/mejor_modelo_transfer.h5\n"
          ]
        },
        {
          "output_type": "stream",
          "name": "stderr",
          "text": [
            "WARNING:absl:You are saving your model as an HDF5 file via `model.save()` or `keras.saving.save_model(model)`. This file format is considered legacy. We recommend using instead the native Keras format, e.g. `model.save('my_model.keras')` or `keras.saving.save_model(model, 'my_model.keras')`. \n"
          ]
        },
        {
          "output_type": "stream",
          "name": "stdout",
          "text": [
            "\b\b\b\b\b\b\b\b\b\b\b\b\b\b\b\b\b\b\b\b\b\b\b\b\b\b\b\b\b\b\b\b\b\b\b\b\b\b\b\b\b\b\b\b\b\b\b\b\b\b\b\b\b\b\b\b\b\b\b\b\b\b\b\b\b\b\b\b\b\b\b\b\b\b\r\u001b[1m18/18\u001b[0m \u001b[32m━━━━━━━━━━━━━━━━━━━━\u001b[0m\u001b[37m\u001b[0m \u001b[1m20s\u001b[0m 1s/step - accuracy: 0.8565 - loss: 0.4737 - val_accuracy: 0.7969 - val_loss: 0.5350 - learning_rate: 0.0010\n",
            "Epoch 6/50\n",
            "\u001b[1m 1/18\u001b[0m \u001b[32m━\u001b[0m\u001b[37m━━━━━━━━━━━━━━━━━━━\u001b[0m \u001b[1m11s\u001b[0m 670ms/step - accuracy: 0.7500 - loss: 0.5434\n",
            "Epoch 6: val_accuracy did not improve from 0.79688\n",
            "\u001b[1m18/18\u001b[0m \u001b[32m━━━━━━━━━━━━━━━━━━━━\u001b[0m\u001b[37m\u001b[0m \u001b[1m4s\u001b[0m 190ms/step - accuracy: 0.7500 - loss: 0.5434 - val_accuracy: 0.7969 - val_loss: 0.4884 - learning_rate: 0.0010\n",
            "Epoch 7/50\n",
            "\u001b[1m18/18\u001b[0m \u001b[32m━━━━━━━━━━━━━━━━━━━━\u001b[0m\u001b[37m\u001b[0m \u001b[1m0s\u001b[0m 869ms/step - accuracy: 0.9028 - loss: 0.3183\n",
            "Epoch 7: val_accuracy improved from 0.79688 to 0.82812, saving model to /content/drive/MyDrive/MyEI/Imagenes/Modelo/mejor_modelo_transfer.h5\n"
          ]
        },
        {
          "output_type": "stream",
          "name": "stderr",
          "text": [
            "WARNING:absl:You are saving your model as an HDF5 file via `model.save()` or `keras.saving.save_model(model)`. This file format is considered legacy. We recommend using instead the native Keras format, e.g. `model.save('my_model.keras')` or `keras.saving.save_model(model, 'my_model.keras')`. \n"
          ]
        },
        {
          "output_type": "stream",
          "name": "stdout",
          "text": [
            "\b\b\b\b\b\b\b\b\b\b\b\b\b\b\b\b\b\b\b\b\b\b\b\b\b\b\b\b\b\b\b\b\b\b\b\b\b\b\b\b\b\b\b\b\b\b\b\b\b\b\b\b\b\b\b\b\b\b\b\b\b\b\b\b\b\b\b\b\b\b\b\b\b\b\r\u001b[1m18/18\u001b[0m \u001b[32m━━━━━━━━━━━━━━━━━━━━\u001b[0m\u001b[37m\u001b[0m \u001b[1m22s\u001b[0m 1s/step - accuracy: 0.9024 - loss: 0.3192 - val_accuracy: 0.8281 - val_loss: 0.4549 - learning_rate: 0.0010\n",
            "Epoch 8/50\n",
            "\u001b[1m 1/18\u001b[0m \u001b[32m━\u001b[0m\u001b[37m━━━━━━━━━━━━━━━━━━━\u001b[0m \u001b[1m8s\u001b[0m 483ms/step - accuracy: 0.8125 - loss: 0.3948\n",
            "Epoch 8: val_accuracy did not improve from 0.82812\n",
            "\u001b[1m18/18\u001b[0m \u001b[32m━━━━━━━━━━━━━━━━━━━━\u001b[0m\u001b[37m\u001b[0m \u001b[1m8s\u001b[0m 426ms/step - accuracy: 0.8125 - loss: 0.3948 - val_accuracy: 0.7656 - val_loss: 0.4314 - learning_rate: 0.0010\n",
            "Epoch 9/50\n",
            "\u001b[1m18/18\u001b[0m \u001b[32m━━━━━━━━━━━━━━━━━━━━\u001b[0m\u001b[37m\u001b[0m \u001b[1m0s\u001b[0m 887ms/step - accuracy: 0.9178 - loss: 0.2493\n",
            "Epoch 9: val_accuracy improved from 0.82812 to 0.85938, saving model to /content/drive/MyDrive/MyEI/Imagenes/Modelo/mejor_modelo_transfer.h5\n"
          ]
        },
        {
          "output_type": "stream",
          "name": "stderr",
          "text": [
            "WARNING:absl:You are saving your model as an HDF5 file via `model.save()` or `keras.saving.save_model(model)`. This file format is considered legacy. We recommend using instead the native Keras format, e.g. `model.save('my_model.keras')` or `keras.saving.save_model(model, 'my_model.keras')`. \n"
          ]
        },
        {
          "output_type": "stream",
          "name": "stdout",
          "text": [
            "\b\b\b\b\b\b\b\b\b\b\b\b\b\b\b\b\b\b\b\b\b\b\b\b\b\b\b\b\b\b\b\b\b\b\b\b\b\b\b\b\b\b\b\b\b\b\b\b\b\b\b\b\b\b\b\b\b\b\b\b\b\b\b\b\b\b\b\b\b\b\b\b\b\b\r\u001b[1m18/18\u001b[0m \u001b[32m━━━━━━━━━━━━━━━━━━━━\u001b[0m\u001b[37m\u001b[0m \u001b[1m21s\u001b[0m 1s/step - accuracy: 0.9162 - loss: 0.2511 - val_accuracy: 0.8594 - val_loss: 0.4147 - learning_rate: 0.0010\n",
            "Epoch 10/50\n",
            "\u001b[1m 1/18\u001b[0m \u001b[32m━\u001b[0m\u001b[37m━━━━━━━━━━━━━━━━━━━\u001b[0m \u001b[1m8s\u001b[0m 481ms/step - accuracy: 0.8750 - loss: 0.4632\n",
            "Epoch 10: val_accuracy did not improve from 0.85938\n",
            "\u001b[1m18/18\u001b[0m \u001b[32m━━━━━━━━━━━━━━━━━━━━\u001b[0m\u001b[37m\u001b[0m \u001b[1m4s\u001b[0m 190ms/step - accuracy: 0.8750 - loss: 0.4632 - val_accuracy: 0.8125 - val_loss: 0.4940 - learning_rate: 0.0010\n",
            "Epoch 11/50\n",
            "\u001b[1m18/18\u001b[0m \u001b[32m━━━━━━━━━━━━━━━━━━━━\u001b[0m\u001b[37m\u001b[0m \u001b[1m0s\u001b[0m 847ms/step - accuracy: 0.9041 - loss: 0.2389\n",
            "Epoch 11: val_accuracy did not improve from 0.85938\n",
            "\u001b[1m18/18\u001b[0m \u001b[32m━━━━━━━━━━━━━━━━━━━━\u001b[0m\u001b[37m\u001b[0m \u001b[1m36s\u001b[0m 1s/step - accuracy: 0.9040 - loss: 0.2399 - val_accuracy: 0.8438 - val_loss: 0.4717 - learning_rate: 0.0010\n",
            "Epoch 12/50\n",
            "\u001b[1m 1/18\u001b[0m \u001b[32m━\u001b[0m\u001b[37m━━━━━━━━━━━━━━━━━━━\u001b[0m \u001b[1m8s\u001b[0m 506ms/step - accuracy: 0.8125 - loss: 0.2881\n",
            "Epoch 12: val_accuracy did not improve from 0.85938\n",
            "\u001b[1m18/18\u001b[0m \u001b[32m━━━━━━━━━━━━━━━━━━━━\u001b[0m\u001b[37m\u001b[0m \u001b[1m4s\u001b[0m 202ms/step - accuracy: 0.8125 - loss: 0.2881 - val_accuracy: 0.8594 - val_loss: 0.4850 - learning_rate: 0.0010\n",
            "Epoch 13/50\n",
            "\u001b[1m18/18\u001b[0m \u001b[32m━━━━━━━━━━━━━━━━━━━━\u001b[0m\u001b[37m\u001b[0m \u001b[1m0s\u001b[0m 871ms/step - accuracy: 0.9361 - loss: 0.2269\n",
            "Epoch 13: val_accuracy did not improve from 0.85938\n",
            "\u001b[1m18/18\u001b[0m \u001b[32m━━━━━━━━━━━━━━━━━━━━\u001b[0m\u001b[37m\u001b[0m \u001b[1m19s\u001b[0m 1s/step - accuracy: 0.9355 - loss: 0.2272 - val_accuracy: 0.8438 - val_loss: 0.4037 - learning_rate: 0.0010\n",
            "Epoch 14/50\n",
            "\u001b[1m 1/18\u001b[0m \u001b[32m━\u001b[0m\u001b[37m━━━━━━━━━━━━━━━━━━━\u001b[0m \u001b[1m8s\u001b[0m 489ms/step - accuracy: 0.9375 - loss: 0.1236\n",
            "Epoch 14: val_accuracy did not improve from 0.85938\n",
            "\u001b[1m18/18\u001b[0m \u001b[32m━━━━━━━━━━━━━━━━━━━━\u001b[0m\u001b[37m\u001b[0m \u001b[1m5s\u001b[0m 248ms/step - accuracy: 0.9375 - loss: 0.1236 - val_accuracy: 0.8125 - val_loss: 0.4463 - learning_rate: 0.0010\n",
            "Epoch 15/50\n",
            "\u001b[1m18/18\u001b[0m \u001b[32m━━━━━━━━━━━━━━━━━━━━\u001b[0m\u001b[37m\u001b[0m \u001b[1m0s\u001b[0m 873ms/step - accuracy: 0.9216 - loss: 0.1947\n",
            "Epoch 15: val_accuracy did not improve from 0.85938\n",
            "\u001b[1m18/18\u001b[0m \u001b[32m━━━━━━━━━━━━━━━━━━━━\u001b[0m\u001b[37m\u001b[0m \u001b[1m20s\u001b[0m 1s/step - accuracy: 0.9219 - loss: 0.1950 - val_accuracy: 0.8281 - val_loss: 0.4821 - learning_rate: 0.0010\n",
            "Epoch 16/50\n",
            "\u001b[1m 1/18\u001b[0m \u001b[32m━\u001b[0m\u001b[37m━━━━━━━━━━━━━━━━━━━\u001b[0m \u001b[1m8s\u001b[0m 508ms/step - accuracy: 0.9375 - loss: 0.1243\n",
            "Epoch 16: val_accuracy improved from 0.85938 to 0.89062, saving model to /content/drive/MyDrive/MyEI/Imagenes/Modelo/mejor_modelo_transfer.h5\n"
          ]
        },
        {
          "output_type": "stream",
          "name": "stderr",
          "text": [
            "WARNING:absl:You are saving your model as an HDF5 file via `model.save()` or `keras.saving.save_model(model)`. This file format is considered legacy. We recommend using instead the native Keras format, e.g. `model.save('my_model.keras')` or `keras.saving.save_model(model, 'my_model.keras')`. \n"
          ]
        },
        {
          "output_type": "stream",
          "name": "stdout",
          "text": [
            "\b\b\b\b\b\b\b\b\b\b\b\b\b\b\b\b\b\b\b\b\b\b\b\b\b\b\b\b\b\b\b\b\b\b\b\b\b\b\b\b\b\b\b\b\b\b\b\b\b\b\b\b\b\b\b\b\b\b\b\b\b\b\b\b\b\b\b\b\b\b\b\b\b\b\r\u001b[1m18/18\u001b[0m \u001b[32m━━━━━━━━━━━━━━━━━━━━\u001b[0m\u001b[37m\u001b[0m \u001b[1m6s\u001b[0m 314ms/step - accuracy: 0.9375 - loss: 0.1243 - val_accuracy: 0.8906 - val_loss: 0.3998 - learning_rate: 0.0010\n",
            "Epoch 17/50\n",
            "\u001b[1m18/18\u001b[0m \u001b[32m━━━━━━━━━━━━━━━━━━━━\u001b[0m\u001b[37m\u001b[0m \u001b[1m0s\u001b[0m 1s/step - accuracy: 0.9280 - loss: 0.1623\n",
            "Epoch 17: val_accuracy did not improve from 0.89062\n",
            "\u001b[1m18/18\u001b[0m \u001b[32m━━━━━━━━━━━━━━━━━━━━\u001b[0m\u001b[37m\u001b[0m \u001b[1m81s\u001b[0m 4s/step - accuracy: 0.9289 - loss: 0.1617 - val_accuracy: 0.8438 - val_loss: 0.4349 - learning_rate: 0.0010\n",
            "Epoch 18/50\n",
            "\u001b[1m 1/18\u001b[0m \u001b[32m━\u001b[0m\u001b[37m━━━━━━━━━━━━━━━━━━━\u001b[0m \u001b[1m8s\u001b[0m 473ms/step - accuracy: 1.0000 - loss: 0.0713\n",
            "Epoch 18: val_accuracy did not improve from 0.89062\n",
            "\u001b[1m18/18\u001b[0m \u001b[32m━━━━━━━━━━━━━━━━━━━━\u001b[0m\u001b[37m\u001b[0m \u001b[1m6s\u001b[0m 352ms/step - accuracy: 1.0000 - loss: 0.0713 - val_accuracy: 0.8125 - val_loss: 0.5691 - learning_rate: 0.0010\n",
            "Epoch 19/50\n",
            "\u001b[1m18/18\u001b[0m \u001b[32m━━━━━━━━━━━━━━━━━━━━\u001b[0m\u001b[37m\u001b[0m \u001b[1m0s\u001b[0m 914ms/step - accuracy: 0.9374 - loss: 0.1807\n",
            "Epoch 19: val_accuracy did not improve from 0.89062\n",
            "\u001b[1m18/18\u001b[0m \u001b[32m━━━━━━━━━━━━━━━━━━━━\u001b[0m\u001b[37m\u001b[0m \u001b[1m20s\u001b[0m 1s/step - accuracy: 0.9368 - loss: 0.1806 - val_accuracy: 0.8281 - val_loss: 0.5459 - learning_rate: 0.0010\n",
            "Epoch 20/50\n",
            "\u001b[1m 1/18\u001b[0m \u001b[32m━\u001b[0m\u001b[37m━━━━━━━━━━━━━━━━━━━\u001b[0m \u001b[1m9s\u001b[0m 543ms/step - accuracy: 1.0000 - loss: 0.0988\n",
            "Epoch 20: val_accuracy did not improve from 0.89062\n",
            "\u001b[1m18/18\u001b[0m \u001b[32m━━━━━━━━━━━━━━━━━━━━\u001b[0m\u001b[37m\u001b[0m \u001b[1m4s\u001b[0m 195ms/step - accuracy: 1.0000 - loss: 0.0988 - val_accuracy: 0.8594 - val_loss: 0.5095 - learning_rate: 0.0010\n",
            "Epoch 21/50\n",
            "\u001b[1m18/18\u001b[0m \u001b[32m━━━━━━━━━━━━━━━━━━━━\u001b[0m\u001b[37m\u001b[0m \u001b[1m0s\u001b[0m 840ms/step - accuracy: 0.9735 - loss: 0.1124\n",
            "Epoch 21: val_accuracy did not improve from 0.89062\n",
            "\u001b[1m18/18\u001b[0m \u001b[32m━━━━━━━━━━━━━━━━━━━━\u001b[0m\u001b[37m\u001b[0m \u001b[1m21s\u001b[0m 1s/step - accuracy: 0.9735 - loss: 0.1125 - val_accuracy: 0.8750 - val_loss: 0.3392 - learning_rate: 0.0010\n",
            "Epoch 22/50\n",
            "\u001b[1m 1/18\u001b[0m \u001b[32m━\u001b[0m\u001b[37m━━━━━━━━━━━━━━━━━━━\u001b[0m \u001b[1m8s\u001b[0m 489ms/step - accuracy: 0.9375 - loss: 0.0926\n",
            "Epoch 22: val_accuracy did not improve from 0.89062\n",
            "\u001b[1m18/18\u001b[0m \u001b[32m━━━━━━━━━━━━━━━━━━━━\u001b[0m\u001b[37m\u001b[0m \u001b[1m4s\u001b[0m 180ms/step - accuracy: 0.9375 - loss: 0.0926 - val_accuracy: 0.8281 - val_loss: 0.4623 - learning_rate: 0.0010\n",
            "Epoch 23/50\n",
            "\u001b[1m18/18\u001b[0m \u001b[32m━━━━━━━━━━━━━━━━━━━━\u001b[0m\u001b[37m\u001b[0m \u001b[1m0s\u001b[0m 840ms/step - accuracy: 0.9347 - loss: 0.1643\n",
            "Epoch 23: val_accuracy did not improve from 0.89062\n",
            "\u001b[1m18/18\u001b[0m \u001b[32m━━━━━━━━━━━━━━━━━━━━\u001b[0m\u001b[37m\u001b[0m \u001b[1m37s\u001b[0m 1s/step - accuracy: 0.9356 - loss: 0.1635 - val_accuracy: 0.8125 - val_loss: 0.4945 - learning_rate: 0.0010\n",
            "Epoch 24/50\n",
            "\u001b[1m 1/18\u001b[0m \u001b[32m━\u001b[0m\u001b[37m━━━━━━━━━━━━━━━━━━━\u001b[0m \u001b[1m13s\u001b[0m 788ms/step - accuracy: 0.9375 - loss: 0.1227\n",
            "Epoch 24: val_accuracy did not improve from 0.89062\n",
            "\u001b[1m18/18\u001b[0m \u001b[32m━━━━━━━━━━━━━━━━━━━━\u001b[0m\u001b[37m\u001b[0m \u001b[1m4s\u001b[0m 187ms/step - accuracy: 0.9375 - loss: 0.1227 - val_accuracy: 0.8125 - val_loss: 0.5526 - learning_rate: 0.0010\n",
            "Epoch 25/50\n",
            "\u001b[1m18/18\u001b[0m \u001b[32m━━━━━━━━━━━━━━━━━━━━\u001b[0m\u001b[37m\u001b[0m \u001b[1m0s\u001b[0m 978ms/step - accuracy: 0.9920 - loss: 0.0610\n",
            "Epoch 25: val_accuracy improved from 0.89062 to 0.90625, saving model to /content/drive/MyDrive/MyEI/Imagenes/Modelo/mejor_modelo_transfer.h5\n"
          ]
        },
        {
          "output_type": "stream",
          "name": "stderr",
          "text": [
            "WARNING:absl:You are saving your model as an HDF5 file via `model.save()` or `keras.saving.save_model(model)`. This file format is considered legacy. We recommend using instead the native Keras format, e.g. `model.save('my_model.keras')` or `keras.saving.save_model(model, 'my_model.keras')`. \n"
          ]
        },
        {
          "output_type": "stream",
          "name": "stdout",
          "text": [
            "\b\b\b\b\b\b\b\b\b\b\b\b\b\b\b\b\b\b\b\b\b\b\b\b\b\b\b\b\b\b\b\b\b\b\b\b\b\b\b\b\b\b\b\b\b\b\b\b\b\b\b\b\b\b\b\b\b\b\b\b\b\b\b\b\b\b\b\b\b\b\b\b\b\b\r\u001b[1m18/18\u001b[0m \u001b[32m━━━━━━━━━━━━━━━━━━━━\u001b[0m\u001b[37m\u001b[0m \u001b[1m42s\u001b[0m 2s/step - accuracy: 0.9917 - loss: 0.0609 - val_accuracy: 0.9062 - val_loss: 0.3092 - learning_rate: 0.0010\n",
            "Epoch 26/50\n",
            "\u001b[1m 1/18\u001b[0m \u001b[32m━\u001b[0m\u001b[37m━━━━━━━━━━━━━━━━━━━\u001b[0m \u001b[1m9s\u001b[0m 545ms/step - accuracy: 0.8125 - loss: 0.4427\n",
            "Epoch 26: val_accuracy improved from 0.90625 to 0.92188, saving model to /content/drive/MyDrive/MyEI/Imagenes/Modelo/mejor_modelo_transfer.h5\n"
          ]
        },
        {
          "output_type": "stream",
          "name": "stderr",
          "text": [
            "WARNING:absl:You are saving your model as an HDF5 file via `model.save()` or `keras.saving.save_model(model)`. This file format is considered legacy. We recommend using instead the native Keras format, e.g. `model.save('my_model.keras')` or `keras.saving.save_model(model, 'my_model.keras')`. \n"
          ]
        },
        {
          "output_type": "stream",
          "name": "stdout",
          "text": [
            "\b\b\b\b\b\b\b\b\b\b\b\b\b\b\b\b\b\b\b\b\b\b\b\b\b\b\b\b\b\b\b\b\b\b\b\b\b\b\b\b\b\b\b\b\b\b\b\b\b\b\b\b\b\b\b\b\b\b\b\b\b\b\b\b\b\b\b\b\b\b\b\b\b\b\r\u001b[1m18/18\u001b[0m \u001b[32m━━━━━━━━━━━━━━━━━━━━\u001b[0m\u001b[37m\u001b[0m \u001b[1m4s\u001b[0m 215ms/step - accuracy: 0.8125 - loss: 0.4427 - val_accuracy: 0.9219 - val_loss: 0.3688 - learning_rate: 0.0010\n",
            "Epoch 27/50\n",
            "\u001b[1m18/18\u001b[0m \u001b[32m━━━━━━━━━━━━━━━━━━━━\u001b[0m\u001b[37m\u001b[0m \u001b[1m0s\u001b[0m 847ms/step - accuracy: 0.9708 - loss: 0.1029\n",
            "Epoch 27: val_accuracy did not improve from 0.92188\n",
            "\u001b[1m18/18\u001b[0m \u001b[32m━━━━━━━━━━━━━━━━━━━━\u001b[0m\u001b[37m\u001b[0m \u001b[1m21s\u001b[0m 1s/step - accuracy: 0.9705 - loss: 0.1038 - val_accuracy: 0.9062 - val_loss: 0.2214 - learning_rate: 0.0010\n",
            "Epoch 28/50\n",
            "\u001b[1m 1/18\u001b[0m \u001b[32m━\u001b[0m\u001b[37m━━━━━━━━━━━━━━━━━━━\u001b[0m \u001b[1m7s\u001b[0m 469ms/step - accuracy: 1.0000 - loss: 0.0549\n",
            "Epoch 28: val_accuracy did not improve from 0.92188\n",
            "\u001b[1m18/18\u001b[0m \u001b[32m━━━━━━━━━━━━━━━━━━━━\u001b[0m\u001b[37m\u001b[0m \u001b[1m4s\u001b[0m 182ms/step - accuracy: 1.0000 - loss: 0.0549 - val_accuracy: 0.8281 - val_loss: 0.4640 - learning_rate: 0.0010\n",
            "Epoch 29/50\n",
            "\u001b[1m18/18\u001b[0m \u001b[32m━━━━━━━━━━━━━━━━━━━━\u001b[0m\u001b[37m\u001b[0m \u001b[1m0s\u001b[0m 840ms/step - accuracy: 0.9715 - loss: 0.0870\n",
            "Epoch 29: val_accuracy did not improve from 0.92188\n",
            "\u001b[1m18/18\u001b[0m \u001b[32m━━━━━━━━━━━━━━━━━━━━\u001b[0m\u001b[37m\u001b[0m \u001b[1m41s\u001b[0m 1s/step - accuracy: 0.9710 - loss: 0.0881 - val_accuracy: 0.8594 - val_loss: 0.3889 - learning_rate: 0.0010\n",
            "Epoch 30/50\n",
            "\u001b[1m 1/18\u001b[0m \u001b[32m━\u001b[0m\u001b[37m━━━━━━━━━━━━━━━━━━━\u001b[0m \u001b[1m8s\u001b[0m 486ms/step - accuracy: 1.0000 - loss: 0.0183\n",
            "Epoch 30: val_accuracy did not improve from 0.92188\n",
            "\u001b[1m18/18\u001b[0m \u001b[32m━━━━━━━━━━━━━━━━━━━━\u001b[0m\u001b[37m\u001b[0m \u001b[1m7s\u001b[0m 357ms/step - accuracy: 1.0000 - loss: 0.0183 - val_accuracy: 0.7969 - val_loss: 0.5883 - learning_rate: 0.0010\n",
            "Epoch 31/50\n",
            "\u001b[1m18/18\u001b[0m \u001b[32m━━━━━━━━━━━━━━━━━━━━\u001b[0m\u001b[37m\u001b[0m \u001b[1m0s\u001b[0m 862ms/step - accuracy: 0.9426 - loss: 0.1608\n",
            "Epoch 31: val_accuracy did not improve from 0.92188\n",
            "\u001b[1m18/18\u001b[0m \u001b[32m━━━━━━━━━━━━━━━━━━━━\u001b[0m\u001b[37m\u001b[0m \u001b[1m41s\u001b[0m 2s/step - accuracy: 0.9432 - loss: 0.1595 - val_accuracy: 0.7500 - val_loss: 0.5785 - learning_rate: 0.0010\n",
            "Epoch 32/50\n",
            "\u001b[1m 1/18\u001b[0m \u001b[32m━\u001b[0m\u001b[37m━━━━━━━━━━━━━━━━━━━\u001b[0m \u001b[1m15s\u001b[0m 931ms/step - accuracy: 1.0000 - loss: 0.1360\n",
            "Epoch 32: val_accuracy did not improve from 0.92188\n",
            "\n",
            "Epoch 32: ReduceLROnPlateau reducing learning rate to 0.00020000000949949026.\n",
            "\u001b[1m18/18\u001b[0m \u001b[32m━━━━━━━━━━━━━━━━━━━━\u001b[0m\u001b[37m\u001b[0m \u001b[1m4s\u001b[0m 190ms/step - accuracy: 1.0000 - loss: 0.1360 - val_accuracy: 0.7969 - val_loss: 0.6100 - learning_rate: 0.0010\n",
            "Epoch 33/50\n",
            "\u001b[1m18/18\u001b[0m \u001b[32m━━━━━━━━━━━━━━━━━━━━\u001b[0m\u001b[37m\u001b[0m \u001b[1m0s\u001b[0m 861ms/step - accuracy: 0.9660 - loss: 0.1387\n",
            "Epoch 33: val_accuracy did not improve from 0.92188\n",
            "\u001b[1m18/18\u001b[0m \u001b[32m━━━━━━━━━━━━━━━━━━━━\u001b[0m\u001b[37m\u001b[0m \u001b[1m26s\u001b[0m 1s/step - accuracy: 0.9663 - loss: 0.1371 - val_accuracy: 0.8438 - val_loss: 0.4468 - learning_rate: 2.0000e-04\n",
            "Epoch 34/50\n",
            "\u001b[1m 1/18\u001b[0m \u001b[32m━\u001b[0m\u001b[37m━━━━━━━━━━━━━━━━━━━\u001b[0m \u001b[1m12s\u001b[0m 706ms/step - accuracy: 1.0000 - loss: 0.0264\n",
            "Epoch 34: val_accuracy did not improve from 0.92188\n",
            "\u001b[1m18/18\u001b[0m \u001b[32m━━━━━━━━━━━━━━━━━━━━\u001b[0m\u001b[37m\u001b[0m \u001b[1m4s\u001b[0m 186ms/step - accuracy: 1.0000 - loss: 0.0264 - val_accuracy: 0.7969 - val_loss: 0.4840 - learning_rate: 2.0000e-04\n",
            "Epoch 35/50\n",
            "\u001b[1m18/18\u001b[0m \u001b[32m━━━━━━━━━━━━━━━━━━━━\u001b[0m\u001b[37m\u001b[0m \u001b[1m0s\u001b[0m 860ms/step - accuracy: 0.9975 - loss: 0.0563\n",
            "Epoch 35: val_accuracy did not improve from 0.92188\n",
            "\u001b[1m18/18\u001b[0m \u001b[32m━━━━━━━━━━━━━━━━━━━━\u001b[0m\u001b[37m\u001b[0m \u001b[1m20s\u001b[0m 1s/step - accuracy: 0.9973 - loss: 0.0562 - val_accuracy: 0.8750 - val_loss: 0.4756 - learning_rate: 2.0000e-04\n",
            "Epoch 36/50\n",
            "\u001b[1m 1/18\u001b[0m \u001b[32m━\u001b[0m\u001b[37m━━━━━━━━━━━━━━━━━━━\u001b[0m \u001b[1m8s\u001b[0m 474ms/step - accuracy: 1.0000 - loss: 0.0182\n",
            "Epoch 36: val_accuracy did not improve from 0.92188\n",
            "\u001b[1m18/18\u001b[0m \u001b[32m━━━━━━━━━━━━━━━━━━━━\u001b[0m\u001b[37m\u001b[0m \u001b[1m6s\u001b[0m 307ms/step - accuracy: 1.0000 - loss: 0.0182 - val_accuracy: 0.8750 - val_loss: 0.3586 - learning_rate: 2.0000e-04\n",
            "Epoch 37/50\n",
            "\u001b[1m18/18\u001b[0m \u001b[32m━━━━━━━━━━━━━━━━━━━━\u001b[0m\u001b[37m\u001b[0m \u001b[1m0s\u001b[0m 875ms/step - accuracy: 0.9665 - loss: 0.0955\n",
            "Epoch 37: val_accuracy did not improve from 0.92188\n",
            "\n",
            "Epoch 37: ReduceLROnPlateau reducing learning rate to 4.0000001899898055e-05.\n",
            "\u001b[1m18/18\u001b[0m \u001b[32m━━━━━━━━━━━━━━━━━━━━\u001b[0m\u001b[37m\u001b[0m \u001b[1m34s\u001b[0m 1s/step - accuracy: 0.9672 - loss: 0.0942 - val_accuracy: 0.9219 - val_loss: 0.2828 - learning_rate: 2.0000e-04\n",
            "Epoch 37: early stopping\n",
            "Restoring model weights from the end of the best epoch: 27.\n",
            "Epoch 1/20\n",
            "\u001b[1m18/18\u001b[0m \u001b[32m━━━━━━━━━━━━━━━━━━━━\u001b[0m\u001b[37m\u001b[0m \u001b[1m0s\u001b[0m 1s/step - accuracy: 0.8377 - loss: 0.5468\n",
            "Epoch 1: val_accuracy did not improve from 0.92188\n",
            "\u001b[1m18/18\u001b[0m \u001b[32m━━━━━━━━━━━━━━━━━━━━\u001b[0m\u001b[37m\u001b[0m \u001b[1m39s\u001b[0m 2s/step - accuracy: 0.8387 - loss: 0.5404 - val_accuracy: 0.8750 - val_loss: 0.4664 - learning_rate: 1.0000e-04\n",
            "Epoch 2/20\n",
            "\u001b[1m 1/18\u001b[0m \u001b[32m━\u001b[0m\u001b[37m━━━━━━━━━━━━━━━━━━━\u001b[0m \u001b[1m10s\u001b[0m 641ms/step - accuracy: 0.8750 - loss: 0.1668\n",
            "Epoch 2: val_accuracy did not improve from 0.92188\n",
            "\u001b[1m18/18\u001b[0m \u001b[32m━━━━━━━━━━━━━━━━━━━━\u001b[0m\u001b[37m\u001b[0m \u001b[1m4s\u001b[0m 194ms/step - accuracy: 0.8750 - loss: 0.1668 - val_accuracy: 0.8750 - val_loss: 0.4167 - learning_rate: 1.0000e-04\n",
            "Epoch 3/20\n",
            "\u001b[1m18/18\u001b[0m \u001b[32m━━━━━━━━━━━━━━━━━━━━\u001b[0m\u001b[37m\u001b[0m \u001b[1m0s\u001b[0m 1s/step - accuracy: 0.9390 - loss: 0.1475\n",
            "Epoch 3: val_accuracy did not improve from 0.92188\n",
            "\u001b[1m18/18\u001b[0m \u001b[32m━━━━━━━━━━━━━━━━━━━━\u001b[0m\u001b[37m\u001b[0m \u001b[1m41s\u001b[0m 2s/step - accuracy: 0.9378 - loss: 0.1511 - val_accuracy: 0.9062 - val_loss: 0.3762 - learning_rate: 1.0000e-04\n",
            "Epoch 4/20\n",
            "\u001b[1m 1/18\u001b[0m \u001b[32m━\u001b[0m\u001b[37m━━━━━━━━━━━━━━━━━━━\u001b[0m \u001b[1m11s\u001b[0m 654ms/step - accuracy: 1.0000 - loss: 0.0336\n",
            "Epoch 4: val_accuracy did not improve from 0.92188\n",
            "\u001b[1m18/18\u001b[0m \u001b[32m━━━━━━━━━━━━━━━━━━━━\u001b[0m\u001b[37m\u001b[0m \u001b[1m4s\u001b[0m 202ms/step - accuracy: 1.0000 - loss: 0.0336 - val_accuracy: 0.8750 - val_loss: 0.4131 - learning_rate: 1.0000e-04\n",
            "Epoch 5/20\n",
            "\u001b[1m18/18\u001b[0m \u001b[32m━━━━━━━━━━━━━━━━━━━━\u001b[0m\u001b[37m\u001b[0m \u001b[1m0s\u001b[0m 1s/step - accuracy: 0.9562 - loss: 0.1070\n",
            "Epoch 5: val_accuracy did not improve from 0.92188\n",
            "\u001b[1m18/18\u001b[0m \u001b[32m━━━━━━━━━━━━━━━━━━━━\u001b[0m\u001b[37m\u001b[0m \u001b[1m41s\u001b[0m 2s/step - accuracy: 0.9554 - loss: 0.1085 - val_accuracy: 0.8438 - val_loss: 0.5362 - learning_rate: 1.0000e-04\n",
            "Epoch 6/20\n",
            "\u001b[1m 1/18\u001b[0m \u001b[32m━\u001b[0m\u001b[37m━━━━━━━━━━━━━━━━━━━\u001b[0m \u001b[1m13s\u001b[0m 779ms/step - accuracy: 1.0000 - loss: 0.1390\n",
            "Epoch 6: val_accuracy did not improve from 0.92188\n",
            "\u001b[1m18/18\u001b[0m \u001b[32m━━━━━━━━━━━━━━━━━━━━\u001b[0m\u001b[37m\u001b[0m \u001b[1m6s\u001b[0m 284ms/step - accuracy: 1.0000 - loss: 0.1390 - val_accuracy: 0.8750 - val_loss: 0.4415 - learning_rate: 1.0000e-04\n",
            "Epoch 7/20\n",
            "\u001b[1m18/18\u001b[0m \u001b[32m━━━━━━━━━━━━━━━━━━━━\u001b[0m\u001b[37m\u001b[0m \u001b[1m0s\u001b[0m 1s/step - accuracy: 0.9051 - loss: 0.2190\n",
            "Epoch 7: val_accuracy did not improve from 0.92188\n",
            "\u001b[1m18/18\u001b[0m \u001b[32m━━━━━━━━━━━━━━━━━━━━\u001b[0m\u001b[37m\u001b[0m \u001b[1m62s\u001b[0m 1s/step - accuracy: 0.9058 - loss: 0.2179 - val_accuracy: 0.8438 - val_loss: 0.5343 - learning_rate: 1.0000e-04\n",
            "Epoch 8/20\n",
            "\u001b[1m 1/18\u001b[0m \u001b[32m━\u001b[0m\u001b[37m━━━━━━━━━━━━━━━━━━━\u001b[0m \u001b[1m21s\u001b[0m 1s/step - accuracy: 0.9375 - loss: 0.1893\n",
            "Epoch 8: val_accuracy did not improve from 0.92188\n",
            "\n",
            "Epoch 8: ReduceLROnPlateau reducing learning rate to 1.9999999494757503e-05.\n",
            "\u001b[1m18/18\u001b[0m \u001b[32m━━━━━━━━━━━━━━━━━━━━\u001b[0m\u001b[37m\u001b[0m \u001b[1m7s\u001b[0m 345ms/step - accuracy: 0.9375 - loss: 0.1893 - val_accuracy: 0.8750 - val_loss: 0.4580 - learning_rate: 1.0000e-04\n",
            "Epoch 9/20\n",
            "\u001b[1m18/18\u001b[0m \u001b[32m━━━━━━━━━━━━━━━━━━━━\u001b[0m\u001b[37m\u001b[0m \u001b[1m0s\u001b[0m 1s/step - accuracy: 0.9314 - loss: 0.1909\n",
            "Epoch 9: val_accuracy did not improve from 0.92188\n",
            "\u001b[1m18/18\u001b[0m \u001b[32m━━━━━━━━━━━━━━━━━━━━\u001b[0m\u001b[37m\u001b[0m \u001b[1m38s\u001b[0m 2s/step - accuracy: 0.9321 - loss: 0.1889 - val_accuracy: 0.8438 - val_loss: 0.5983 - learning_rate: 2.0000e-05\n",
            "Epoch 10/20\n",
            "\u001b[1m 1/18\u001b[0m \u001b[32m━\u001b[0m\u001b[37m━━━━━━━━━━━━━━━━━━━\u001b[0m \u001b[1m16s\u001b[0m 965ms/step - accuracy: 0.9375 - loss: 0.1224\n",
            "Epoch 10: val_accuracy did not improve from 0.92188\n",
            "\u001b[1m18/18\u001b[0m \u001b[32m━━━━━━━━━━━━━━━━━━━━\u001b[0m\u001b[37m\u001b[0m \u001b[1m6s\u001b[0m 291ms/step - accuracy: 0.9375 - loss: 0.1224 - val_accuracy: 0.8594 - val_loss: 0.4176 - learning_rate: 2.0000e-05\n",
            "Epoch 11/20\n",
            "\u001b[1m18/18\u001b[0m \u001b[32m━━━━━━━━━━━━━━━━━━━━\u001b[0m\u001b[37m\u001b[0m \u001b[1m0s\u001b[0m 968ms/step - accuracy: 0.9242 - loss: 0.1845\n",
            "Epoch 11: val_accuracy did not improve from 0.92188\n",
            "\u001b[1m18/18\u001b[0m \u001b[32m━━━━━━━━━━━━━━━━━━━━\u001b[0m\u001b[37m\u001b[0m \u001b[1m42s\u001b[0m 2s/step - accuracy: 0.9256 - loss: 0.1820 - val_accuracy: 0.8438 - val_loss: 0.4560 - learning_rate: 2.0000e-05\n",
            "Epoch 12/20\n",
            "\u001b[1m 1/18\u001b[0m \u001b[32m━\u001b[0m\u001b[37m━━━━━━━━━━━━━━━━━━━\u001b[0m \u001b[1m11s\u001b[0m 667ms/step - accuracy: 1.0000 - loss: 0.0162\n",
            "Epoch 12: val_accuracy did not improve from 0.92188\n",
            "\u001b[1m18/18\u001b[0m \u001b[32m━━━━━━━━━━━━━━━━━━━━\u001b[0m\u001b[37m\u001b[0m \u001b[1m4s\u001b[0m 185ms/step - accuracy: 1.0000 - loss: 0.0162 - val_accuracy: 0.8750 - val_loss: 0.3486 - learning_rate: 2.0000e-05\n",
            "Epoch 13/20\n",
            "\u001b[1m18/18\u001b[0m \u001b[32m━━━━━━━━━━━━━━━━━━━━\u001b[0m\u001b[37m\u001b[0m \u001b[1m0s\u001b[0m 998ms/step - accuracy: 0.9810 - loss: 0.0685\n",
            "Epoch 13: val_accuracy did not improve from 0.92188\n",
            "\u001b[1m18/18\u001b[0m \u001b[32m━━━━━━━━━━━━━━━━━━━━\u001b[0m\u001b[37m\u001b[0m \u001b[1m41s\u001b[0m 2s/step - accuracy: 0.9804 - loss: 0.0697 - val_accuracy: 0.8594 - val_loss: 0.3539 - learning_rate: 2.0000e-05\n",
            "Epoch 14/20\n",
            "\u001b[1m 1/18\u001b[0m \u001b[32m━\u001b[0m\u001b[37m━━━━━━━━━━━━━━━━━━━\u001b[0m \u001b[1m10s\u001b[0m 643ms/step - accuracy: 1.0000 - loss: 0.0091\n",
            "Epoch 14: val_accuracy did not improve from 0.92188\n",
            "\u001b[1m18/18\u001b[0m \u001b[32m━━━━━━━━━━━━━━━━━━━━\u001b[0m\u001b[37m\u001b[0m \u001b[1m4s\u001b[0m 196ms/step - accuracy: 1.0000 - loss: 0.0091 - val_accuracy: 0.8281 - val_loss: 0.5218 - learning_rate: 2.0000e-05\n",
            "Epoch 15/20\n",
            "\u001b[1m18/18\u001b[0m \u001b[32m━━━━━━━━━━━━━━━━━━━━\u001b[0m\u001b[37m\u001b[0m \u001b[1m0s\u001b[0m 1s/step - accuracy: 0.9719 - loss: 0.0744\n",
            "Epoch 15: val_accuracy did not improve from 0.92188\n",
            "\u001b[1m18/18\u001b[0m \u001b[32m━━━━━━━━━━━━━━━━━━━━\u001b[0m\u001b[37m\u001b[0m \u001b[1m84s\u001b[0m 3s/step - accuracy: 0.9718 - loss: 0.0755 - val_accuracy: 0.7969 - val_loss: 0.5159 - learning_rate: 2.0000e-05\n",
            "Epoch 16/20\n",
            "\u001b[1m 1/18\u001b[0m \u001b[32m━\u001b[0m\u001b[37m━━━━━━━━━━━━━━━━━━━\u001b[0m \u001b[1m12s\u001b[0m 734ms/step - accuracy: 0.9375 - loss: 0.1178\n",
            "Epoch 16: val_accuracy did not improve from 0.92188\n",
            "\u001b[1m18/18\u001b[0m \u001b[32m━━━━━━━━━━━━━━━━━━━━\u001b[0m\u001b[37m\u001b[0m \u001b[1m4s\u001b[0m 185ms/step - accuracy: 0.9375 - loss: 0.1178 - val_accuracy: 0.8906 - val_loss: 0.4047 - learning_rate: 2.0000e-05\n",
            "Epoch 17/20\n",
            "\u001b[1m18/18\u001b[0m \u001b[32m━━━━━━━━━━━━━━━━━━━━\u001b[0m\u001b[37m\u001b[0m \u001b[1m0s\u001b[0m 983ms/step - accuracy: 0.9525 - loss: 0.1059\n",
            "Epoch 17: val_accuracy did not improve from 0.92188\n",
            "\n",
            "Epoch 17: ReduceLROnPlateau reducing learning rate to 1e-05.\n",
            "\u001b[1m18/18\u001b[0m \u001b[32m━━━━━━━━━━━━━━━━━━━━\u001b[0m\u001b[37m\u001b[0m \u001b[1m21s\u001b[0m 1s/step - accuracy: 0.9525 - loss: 0.1061 - val_accuracy: 0.8281 - val_loss: 0.4517 - learning_rate: 2.0000e-05\n",
            "Epoch 18/20\n",
            "\u001b[1m 1/18\u001b[0m \u001b[32m━\u001b[0m\u001b[37m━━━━━━━━━━━━━━━━━━━\u001b[0m \u001b[1m20s\u001b[0m 1s/step - accuracy: 0.9375 - loss: 0.2273\n",
            "Epoch 18: val_accuracy did not improve from 0.92188\n",
            "\u001b[1m18/18\u001b[0m \u001b[32m━━━━━━━━━━━━━━━━━━━━\u001b[0m\u001b[37m\u001b[0m \u001b[1m6s\u001b[0m 264ms/step - accuracy: 0.9375 - loss: 0.2273 - val_accuracy: 0.8125 - val_loss: 0.2718 - learning_rate: 1.0000e-05\n",
            "Epoch 19/20\n",
            "\u001b[1m18/18\u001b[0m \u001b[32m━━━━━━━━━━━━━━━━━━━━\u001b[0m\u001b[37m\u001b[0m \u001b[1m0s\u001b[0m 999ms/step - accuracy: 0.9729 - loss: 0.1052\n",
            "Epoch 19: val_accuracy did not improve from 0.92188\n",
            "\u001b[1m18/18\u001b[0m \u001b[32m━━━━━━━━━━━━━━━━━━━━\u001b[0m\u001b[37m\u001b[0m \u001b[1m36s\u001b[0m 1s/step - accuracy: 0.9727 - loss: 0.1053 - val_accuracy: 0.8438 - val_loss: 0.4992 - learning_rate: 1.0000e-05\n",
            "Epoch 20/20\n",
            "\u001b[1m 1/18\u001b[0m \u001b[32m━\u001b[0m\u001b[37m━━━━━━━━━━━━━━━━━━━\u001b[0m \u001b[1m20s\u001b[0m 1s/step - accuracy: 1.0000 - loss: 0.0287\n",
            "Epoch 20: val_accuracy did not improve from 0.92188\n",
            "\u001b[1m18/18\u001b[0m \u001b[32m━━━━━━━━━━━━━━━━━━━━\u001b[0m\u001b[37m\u001b[0m \u001b[1m5s\u001b[0m 251ms/step - accuracy: 1.0000 - loss: 0.0287 - val_accuracy: 0.8438 - val_loss: 0.4805 - learning_rate: 1.0000e-05\n",
            "Restoring model weights from the end of the best epoch: 18.\n"
          ]
        },
        {
          "output_type": "stream",
          "name": "stderr",
          "text": [
            "WARNING:absl:You are saving your model as an HDF5 file via `model.save()` or `keras.saving.save_model(model)`. This file format is considered legacy. We recommend using instead the native Keras format, e.g. `model.save('my_model.keras')` or `keras.saving.save_model(model, 'my_model.keras')`. \n"
          ]
        },
        {
          "output_type": "stream",
          "name": "stdout",
          "text": [
            "Modelo final guardado en: /content/drive/MyDrive/MyEI/Imagenes/Modelo/modelo_final_transfer.h5\n",
            "Mapeo de clases guardado\n"
          ]
        }
      ]
    },
    {
      "cell_type": "code",
      "source": [
        "# Evaluar el modelo en el conjunto de validación\n",
        "resultados = ModeloCNN.evaluate(imagenes_validacion, verbose=1)\n",
        "print(f\"Pérdida en validación: {resultados[0]:.4f}\")\n",
        "print(f\"Precisión en validación: {resultados[1]:.4f}\")\n",
        "\n",
        "# Predecir en todo el conjunto de validación\n",
        "predicciones = ModeloCNN.predict(imagenes_validacion)\n",
        "y_pred = np.argmax(predicciones, axis=1)\n",
        "\n",
        "# Obtener etiquetas reales\n",
        "y_true = imagenes_validacion.classes\n",
        "\n",
        "# Calcular matriz de confusión\n",
        "from sklearn.metrics import classification_report, confusion_matrix\n",
        "import pandas as pd\n",
        "\n",
        "# Crear matriz de confusión\n",
        "cm = confusion_matrix(y_true, y_pred)\n",
        "\n",
        "# Convertir a DataFrame para mejor visualización\n",
        "df_cm = pd.DataFrame(\n",
        "    cm,\n",
        "    index=[indices_clases[i] for i in range(len(indices_clases))],\n",
        "    columns=[indices_clases[i] for i in range(len(indices_clases))]\n",
        ")\n",
        "\n",
        "print(\"Matriz de confusión:\")\n",
        "print(df_cm)\n",
        "\n",
        "# Mostrar reporte de clasificación\n",
        "print(\"\\nReporte de clasificación:\")\n",
        "print(classification_report(\n",
        "    y_true,\n",
        "    y_pred,\n",
        "    target_names=[indices_clases[i] for i in range(len(indices_clases))]\n",
        "))"
      ],
      "metadata": {
        "colab": {
          "base_uri": "https://localhost:8080/"
        },
        "id": "akWhmSd0u-FZ",
        "outputId": "64fd1eb7-7671-4fe5-8561-cc198c46b733"
      },
      "execution_count": 36,
      "outputs": [
        {
          "output_type": "stream",
          "name": "stdout",
          "text": [
            "\u001b[1m7/7\u001b[0m \u001b[32m━━━━━━━━━━━━━━━━━━━━\u001b[0m\u001b[37m\u001b[0m \u001b[1m4s\u001b[0m 578ms/step - accuracy: 0.9791 - loss: 0.0922\n",
            "Pérdida en validación: 0.1492\n",
            "Precisión en validación: 0.9636\n",
            "\u001b[1m7/7\u001b[0m \u001b[32m━━━━━━━━━━━━━━━━━━━━\u001b[0m\u001b[37m\u001b[0m \u001b[1m9s\u001b[0m 1s/step\n",
            "Matriz de confusión:\n",
            "           aluminio  basura  organicos  papel  plástico  vidrio\n",
            "aluminio         16       0          0      0          0       0\n",
            "basura            0      16          0      0          0       0\n",
            "organicos         0       0         30      0          0       0\n",
            "papel             0       2          1     13          0       0\n",
            "plástico         0       0          0      0         15       1\n",
            "vidrio            0       0          0      0          0      16\n",
            "\n",
            "Reporte de clasificación:\n",
            "              precision    recall  f1-score   support\n",
            "\n",
            "    aluminio       1.00      1.00      1.00        16\n",
            "      basura       0.89      1.00      0.94        16\n",
            "   organicos       0.97      1.00      0.98        30\n",
            "       papel       1.00      0.81      0.90        16\n",
            "   plástico       1.00      0.94      0.97        16\n",
            "      vidrio       0.94      1.00      0.97        16\n",
            "\n",
            "    accuracy                           0.96       110\n",
            "   macro avg       0.97      0.96      0.96       110\n",
            "weighted avg       0.97      0.96      0.96       110\n",
            "\n"
          ]
        }
      ]
    },
    {
      "cell_type": "code",
      "source": [
        "from tensorflow.keras.utils import load_img, img_to_array\n",
        "from tensorflow.keras.models import load_model\n",
        "import numpy as np\n",
        "import json\n",
        "import os\n",
        "\n",
        "def evaluar_imagen(ruta_imagen, modelo_path=None, modelo=None):\n",
        "    \"\"\"\n",
        "    Evalúa una imagen y muestra solo el resultado de la clasificación\n",
        "    \"\"\"\n",
        "    # Cargar el modelo si no se proporciona\n",
        "    if modelo is None and modelo_path:\n",
        "        modelo = load_model(modelo_path)\n",
        "\n",
        "    # Cargar mapeo de clases\n",
        "    clases_path = os.path.join(os.path.dirname(modelo_path), \"clases_indices.json\")\n",
        "    try:\n",
        "        with open(clases_path, \"r\") as f:\n",
        "            clases_indices = json.load(f)\n",
        "            indices_clases = {int(v): k for k, v in clases_indices.items()}\n",
        "    except:\n",
        "        # Mapeo manual si no se encuentra el archivo\n",
        "        indices_clases = {\n",
        "            0: 'organico',\n",
        "            1: 'vidrio',\n",
        "            2: 'metal',\n",
        "            3: 'papel',\n",
        "            4: 'plastico',\n",
        "            5: 'basura'\n",
        "        }\n",
        "\n",
        "    # Preprocesar la imagen\n",
        "    imagen = load_img(ruta_imagen, target_size=(224, 224))\n",
        "    img_array = img_to_array(imagen)\n",
        "    img_array = np.expand_dims(img_array, axis=0)\n",
        "    img_array = preprocess_input(img_array)  # Preprocesamiento específico para MobileNetV2\n",
        "\n",
        "    # Predecir\n",
        "    prediccion = modelo.predict(img_array, verbose=0)\n",
        "\n",
        "    # Obtener la clase con mayor probabilidad\n",
        "    clase_idx = np.argmax(prediccion[0])\n",
        "    clase_nombre = indices_clases[clase_idx]\n",
        "    probabilidad = prediccion[0][clase_idx]\n",
        "\n",
        "    # Mostrar solo el resultado\n",
        "    print(f\"Tipo de residuo: {clase_nombre.upper()} (confianza: {probabilidad:.2%})\")\n",
        "\n",
        "    return clase_nombre, probabilidad\n",
        "\n",
        "# Ejemplo de uso\n",
        "modelo_path = os.path.join(modelo_dir, \"modelo_final_transfer.h5\")"
      ],
      "metadata": {
        "id": "1SBdQw6avA6O"
      },
      "execution_count": 37,
      "outputs": []
    },
    {
      "cell_type": "code",
      "source": [
        "def evaluar_directorio(directorio, modelo_path, num_imagenes=None):\n",
        "    \"\"\"\n",
        "    Evalúa todas las imágenes en un directorio y muestra estadísticas simplificadas\n",
        "    \"\"\"\n",
        "    # Cargar el modelo una sola vez\n",
        "    modelo = load_model(modelo_path)\n",
        "\n",
        "    # Obtener lista de imágenes\n",
        "    imagenes = []\n",
        "    for root, _, files in os.walk(directorio):\n",
        "        for file in files:\n",
        "            if file.lower().endswith(('.png', '.jpg', '.jpeg')):\n",
        "                imagenes.append(os.path.join(root, file))\n",
        "\n",
        "    # Limitar número de imágenes si se especifica\n",
        "    if num_imagenes and len(imagenes) > num_imagenes:\n",
        "        imagenes = imagenes[:num_imagenes]\n",
        "\n",
        "    # Estadísticas\n",
        "    total = len(imagenes)\n",
        "    resultados = {}\n",
        "\n",
        "    # Procesar cada imagen\n",
        "    for i, img_path in enumerate(imagenes):\n",
        "        print(f\"Imagen {i+1}/{total}: {os.path.basename(img_path)}\")\n",
        "\n",
        "        # Obtener clase real del nombre del directorio\n",
        "        clase_real = os.path.basename(os.path.dirname(img_path)).lower()\n",
        "\n",
        "        # Evaluar imagen\n",
        "        clase_pred, _ = evaluar_imagen(img_path, modelo_path=modelo_path, modelo=modelo)\n",
        "\n",
        "        # Registrar resultado\n",
        "        if clase_real not in resultados:\n",
        "            resultados[clase_real] = {'total': 0, 'correctas': 0}\n",
        "\n",
        "        resultados[clase_real]['total'] += 1\n",
        "        if clase_real == clase_pred.lower():\n",
        "            resultados[clase_real]['correctas'] += 1\n",
        "\n",
        "    # Mostrar resultados simplificados\n",
        "    print(\"\\n--- RESULTADOS DE EVALUACIÓN ---\")\n",
        "    print(f\"Total de imágenes evaluadas: {total}\")\n",
        "\n",
        "    total_correctas = sum(r['correctas'] for r in resultados.values())\n",
        "    precision_global = total_correctas / total if total > 0 else 0\n",
        "\n",
        "    print(f\"Precisión global: {precision_global:.2%}\")\n",
        "    print(\"\\nResultados por clase:\")\n",
        "\n",
        "    for clase, stats in resultados.items():\n",
        "        precision = stats['correctas'] / stats['total'] if stats['total'] > 0 else 0\n",
        "        print(f\"  {clase}: {precision:.2%} ({stats['correctas']}/{stats['total']})\")\n",
        "\n",
        "# Ejemplo de uso\n",
        "directorio_validacion = \"/content/drive/MyDrive/MyEI/Imagenes/Validar\"\n",
        "modelo_path = os.path.join(modelo_dir, \"modelo_final_transfer.h5\")"
      ],
      "metadata": {
        "id": "4zUhpaOHvEDI"
      },
      "execution_count": 38,
      "outputs": []
    },
    {
      "cell_type": "code",
      "source": [
        "from google.colab import files\n",
        "import io\n",
        "\n",
        "def interfaz_clasificacion_simple():\n",
        "    \"\"\"Crea una interfaz simple para clasificar imágenes en Google Colab\"\"\"\n",
        "\n",
        "    # Cargar el modelo\n",
        "    modelo_path = os.path.join(modelo_dir, \"modelo_final_transfer.h5\")\n",
        "    modelo = load_model(modelo_path)\n",
        "\n",
        "    print(\"=== CLASIFICADOR DE RESIDUOS ===\")\n",
        "    print(\"Selecciona una imagen para clasificar...\")\n",
        "\n",
        "    # Subir imagen\n",
        "    uploaded = files.upload()\n",
        "\n",
        "    # Procesar cada imagen subida\n",
        "    for filename, content in uploaded.items():\n",
        "        # Guardar temporalmente\n",
        "        temp_path = f\"/tmp/{filename}\"\n",
        "        with open(temp_path, 'wb') as f:\n",
        "            f.write(content)\n",
        "\n",
        "        # Clasificar y mostrar solo el resultado\n",
        "        print(f\"\\nResultado para {filename}:\")\n",
        "        evaluar_imagen(temp_path, modelo_path=modelo_path, modelo=modelo)\n",
        "\n",
        "# Ejecutar la interfaz\n",
        "interfaz_clasificacion_simple()"
      ],
      "metadata": {
        "colab": {
          "base_uri": "https://localhost:8080/",
          "height": 177
        },
        "id": "vu-K-UNevOY0",
        "outputId": "33ef9faf-7852-43d4-9191-fd53e9898dd6"
      },
      "execution_count": 44,
      "outputs": [
        {
          "output_type": "stream",
          "name": "stderr",
          "text": [
            "WARNING:absl:Compiled the loaded model, but the compiled metrics have yet to be built. `model.compile_metrics` will be empty until you train or evaluate the model.\n"
          ]
        },
        {
          "output_type": "stream",
          "name": "stdout",
          "text": [
            "=== CLASIFICADOR DE RESIDUOS ===\n",
            "Selecciona una imagen para clasificar...\n"
          ]
        },
        {
          "output_type": "display_data",
          "data": {
            "text/plain": [
              "<IPython.core.display.HTML object>"
            ],
            "text/html": [
              "\n",
              "     <input type=\"file\" id=\"files-3dc782c7-6f9f-4984-8774-86fcd445cb99\" name=\"files[]\" multiple disabled\n",
              "        style=\"border:none\" />\n",
              "     <output id=\"result-3dc782c7-6f9f-4984-8774-86fcd445cb99\">\n",
              "      Upload widget is only available when the cell has been executed in the\n",
              "      current browser session. Please rerun this cell to enable.\n",
              "      </output>\n",
              "      <script>// Copyright 2017 Google LLC\n",
              "//\n",
              "// Licensed under the Apache License, Version 2.0 (the \"License\");\n",
              "// you may not use this file except in compliance with the License.\n",
              "// You may obtain a copy of the License at\n",
              "//\n",
              "//      http://www.apache.org/licenses/LICENSE-2.0\n",
              "//\n",
              "// Unless required by applicable law or agreed to in writing, software\n",
              "// distributed under the License is distributed on an \"AS IS\" BASIS,\n",
              "// WITHOUT WARRANTIES OR CONDITIONS OF ANY KIND, either express or implied.\n",
              "// See the License for the specific language governing permissions and\n",
              "// limitations under the License.\n",
              "\n",
              "/**\n",
              " * @fileoverview Helpers for google.colab Python module.\n",
              " */\n",
              "(function(scope) {\n",
              "function span(text, styleAttributes = {}) {\n",
              "  const element = document.createElement('span');\n",
              "  element.textContent = text;\n",
              "  for (const key of Object.keys(styleAttributes)) {\n",
              "    element.style[key] = styleAttributes[key];\n",
              "  }\n",
              "  return element;\n",
              "}\n",
              "\n",
              "// Max number of bytes which will be uploaded at a time.\n",
              "const MAX_PAYLOAD_SIZE = 100 * 1024;\n",
              "\n",
              "function _uploadFiles(inputId, outputId) {\n",
              "  const steps = uploadFilesStep(inputId, outputId);\n",
              "  const outputElement = document.getElementById(outputId);\n",
              "  // Cache steps on the outputElement to make it available for the next call\n",
              "  // to uploadFilesContinue from Python.\n",
              "  outputElement.steps = steps;\n",
              "\n",
              "  return _uploadFilesContinue(outputId);\n",
              "}\n",
              "\n",
              "// This is roughly an async generator (not supported in the browser yet),\n",
              "// where there are multiple asynchronous steps and the Python side is going\n",
              "// to poll for completion of each step.\n",
              "// This uses a Promise to block the python side on completion of each step,\n",
              "// then passes the result of the previous step as the input to the next step.\n",
              "function _uploadFilesContinue(outputId) {\n",
              "  const outputElement = document.getElementById(outputId);\n",
              "  const steps = outputElement.steps;\n",
              "\n",
              "  const next = steps.next(outputElement.lastPromiseValue);\n",
              "  return Promise.resolve(next.value.promise).then((value) => {\n",
              "    // Cache the last promise value to make it available to the next\n",
              "    // step of the generator.\n",
              "    outputElement.lastPromiseValue = value;\n",
              "    return next.value.response;\n",
              "  });\n",
              "}\n",
              "\n",
              "/**\n",
              " * Generator function which is called between each async step of the upload\n",
              " * process.\n",
              " * @param {string} inputId Element ID of the input file picker element.\n",
              " * @param {string} outputId Element ID of the output display.\n",
              " * @return {!Iterable<!Object>} Iterable of next steps.\n",
              " */\n",
              "function* uploadFilesStep(inputId, outputId) {\n",
              "  const inputElement = document.getElementById(inputId);\n",
              "  inputElement.disabled = false;\n",
              "\n",
              "  const outputElement = document.getElementById(outputId);\n",
              "  outputElement.innerHTML = '';\n",
              "\n",
              "  const pickedPromise = new Promise((resolve) => {\n",
              "    inputElement.addEventListener('change', (e) => {\n",
              "      resolve(e.target.files);\n",
              "    });\n",
              "  });\n",
              "\n",
              "  const cancel = document.createElement('button');\n",
              "  inputElement.parentElement.appendChild(cancel);\n",
              "  cancel.textContent = 'Cancel upload';\n",
              "  const cancelPromise = new Promise((resolve) => {\n",
              "    cancel.onclick = () => {\n",
              "      resolve(null);\n",
              "    };\n",
              "  });\n",
              "\n",
              "  // Wait for the user to pick the files.\n",
              "  const files = yield {\n",
              "    promise: Promise.race([pickedPromise, cancelPromise]),\n",
              "    response: {\n",
              "      action: 'starting',\n",
              "    }\n",
              "  };\n",
              "\n",
              "  cancel.remove();\n",
              "\n",
              "  // Disable the input element since further picks are not allowed.\n",
              "  inputElement.disabled = true;\n",
              "\n",
              "  if (!files) {\n",
              "    return {\n",
              "      response: {\n",
              "        action: 'complete',\n",
              "      }\n",
              "    };\n",
              "  }\n",
              "\n",
              "  for (const file of files) {\n",
              "    const li = document.createElement('li');\n",
              "    li.append(span(file.name, {fontWeight: 'bold'}));\n",
              "    li.append(span(\n",
              "        `(${file.type || 'n/a'}) - ${file.size} bytes, ` +\n",
              "        `last modified: ${\n",
              "            file.lastModifiedDate ? file.lastModifiedDate.toLocaleDateString() :\n",
              "                                    'n/a'} - `));\n",
              "    const percent = span('0% done');\n",
              "    li.appendChild(percent);\n",
              "\n",
              "    outputElement.appendChild(li);\n",
              "\n",
              "    const fileDataPromise = new Promise((resolve) => {\n",
              "      const reader = new FileReader();\n",
              "      reader.onload = (e) => {\n",
              "        resolve(e.target.result);\n",
              "      };\n",
              "      reader.readAsArrayBuffer(file);\n",
              "    });\n",
              "    // Wait for the data to be ready.\n",
              "    let fileData = yield {\n",
              "      promise: fileDataPromise,\n",
              "      response: {\n",
              "        action: 'continue',\n",
              "      }\n",
              "    };\n",
              "\n",
              "    // Use a chunked sending to avoid message size limits. See b/62115660.\n",
              "    let position = 0;\n",
              "    do {\n",
              "      const length = Math.min(fileData.byteLength - position, MAX_PAYLOAD_SIZE);\n",
              "      const chunk = new Uint8Array(fileData, position, length);\n",
              "      position += length;\n",
              "\n",
              "      const base64 = btoa(String.fromCharCode.apply(null, chunk));\n",
              "      yield {\n",
              "        response: {\n",
              "          action: 'append',\n",
              "          file: file.name,\n",
              "          data: base64,\n",
              "        },\n",
              "      };\n",
              "\n",
              "      let percentDone = fileData.byteLength === 0 ?\n",
              "          100 :\n",
              "          Math.round((position / fileData.byteLength) * 100);\n",
              "      percent.textContent = `${percentDone}% done`;\n",
              "\n",
              "    } while (position < fileData.byteLength);\n",
              "  }\n",
              "\n",
              "  // All done.\n",
              "  yield {\n",
              "    response: {\n",
              "      action: 'complete',\n",
              "    }\n",
              "  };\n",
              "}\n",
              "\n",
              "scope.google = scope.google || {};\n",
              "scope.google.colab = scope.google.colab || {};\n",
              "scope.google.colab._files = {\n",
              "  _uploadFiles,\n",
              "  _uploadFilesContinue,\n",
              "};\n",
              "})(self);\n",
              "</script> "
            ]
          },
          "metadata": {}
        },
        {
          "output_type": "stream",
          "name": "stdout",
          "text": [
            "Saving 62.jpg to 62.jpg\n",
            "\n",
            "Resultado para 62.jpg:\n",
            "Tipo de residuo: ALUMINIO (confianza: 100.00%)\n"
          ]
        }
      ]
    }
  ]
}